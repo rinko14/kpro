{
 "cells": [
  {
   "cell_type": "code",
   "execution_count": 13,
   "metadata": {},
   "outputs": [
    {
     "name": "stdout",
     "output_type": "stream",
     "text": [
      "31.41\n"
     ]
    }
   ],
   "source": [
    "D = int(input())\n",
    "ans = D / 100\n",
    "print(ans)"
   ]
  },
  {
   "cell_type": "code",
   "execution_count": null,
   "metadata": {},
   "outputs": [],
   "source": [
    "import collections\n",
    "N = int(input())\n",
    "kouho = []\n",
    "for _ in range(N):\n",
    "    kouhosya = str(input())\n",
    "    kouho.append(kouhosya)\n",
    "\n",
    "counted = collections.Counter(kouho)\n",
    "#最頻値が同値である場合全て出力したい\n",
    "print(counted.most_common()[0][0])\n",
    "#頻出数ではなく、文字だけ出力したい\n"
   ]
  },
  {
   "cell_type": "code",
   "execution_count": 33,
   "metadata": {},
   "outputs": [
    {
     "name": "stdout",
     "output_type": "stream",
     "text": [
      "2\n"
     ]
    }
   ],
   "source": [
    "N, Q = map(int,input().split())\n",
    "A = list(map(int,input().split()))\n",
    "A.sort()\n",
    "\n",
    "for _ in range(Q):\n",
    "    x = int(input())\n",
    "    if x <= A[0]:\n",
    "        print(N)\n",
    "    else:\n",
    "        right = N\n",
    "        left = 0\n",
    "        while right - left > 1:\n",
    "            mid = (right + left) // 2\n",
    "            if A[mid] < x: # まだまだ大きくできる\n",
    "                left = mid\n",
    "            else:\n",
    "                right = mid\n",
    "        print(N-right)"
   ]
  },
  {
   "cell_type": "code",
   "execution_count": 32,
   "metadata": {},
   "outputs": [
    {
     "data": {
      "text/plain": [
       "1"
      ]
     },
     "execution_count": 32,
     "metadata": {},
     "output_type": "execute_result"
    }
   ],
   "source": [
    "int(1.)"
   ]
  },
  {
   "cell_type": "code",
   "execution_count": null,
   "metadata": {},
   "outputs": [],
   "source": [
    "N, M = map(int,input().split())\n",
    "tonari = [[] for _ in range(N)]\n",
    "for _ in range(M):\n",
    "    a, b = map(int,input().split())\n",
    "    tonari[a-1].append(b-1)\n",
    "    tonari[b-1].append(a-1)\n",
    "\n",
    "check = 0\n",
    "start_tail = []\n",
    "for i,t in enumerate(tonari):\n",
    "    if len(t) == 1:\n",
    "        start_tail.append(i)        \n",
    "    if len(t)>2:\n",
    "        print(\"No\")\n",
    "        check = 1\n",
    "        break\n",
    "\n",
    "if len(start_tail) != 2 and check == 0:\n",
    "    print(\"No\")\n",
    "    check = 1\n",
    "siyo = set()\n",
    "if check == 0:\n",
    "    now = start_tail[0]\n",
    "    goal = start_tail[1]\n",
    "    for _ in range(N-1):\n",
    "        siyo.add(now)\n",
    "        for now2 in tonari[now]:\n",
    "            if now2 not in siyo:\n",
    "                now = now2\n",
    "    if now != goal:\n",
    "        print(\"No\")\n",
    "    elif len(siyo) != N:\n",
    "        print(\"No\")\n",
    "    else:\n",
    "        print(\"Yes\")"
   ]
  },
  {
   "cell_type": "code",
   "execution_count": null,
   "metadata": {},
   "outputs": [],
   "source": [
    "from collections import defaultdict\n",
    "\n",
    "class UnionFind():\n",
    "\n",
    "    def __init__(self, n):\n",
    "        self.n = n\n",
    "        self.root = [-1]*(n+1)\n",
    "        self.rank = [0]*(n+1)\n",
    "\n",
    "    def find(self, x):\n",
    "        if(self.root[x] < 0):\n",
    "            return x\n",
    "        else:\n",
    "            self.root[x] = self.find(self.root[x])\n",
    "            return self.root[x]\n",
    "\n",
    "    def unite(self, x, y):\n",
    "        x = self.find(x)\n",
    "        y = self.find(y)\n",
    "\n",
    "        if(x == y):\n",
    "            return\n",
    "        \n",
    "        elif(self.rank[x] > self.rank[y]):\n",
    "            self.root[x] += self.root[y]\n",
    "            self.root[y] = x\n",
    "        else:\n",
    "            self.root[y] += self.root[x]\n",
    "            self.root[x] = y\n",
    "            if(self.rank[x] == self.rank[y]):\n",
    "                self.rank[y] += 1\n",
    "\n",
    "    def same(self, x, y):\n",
    "        return self.find(x) == self.find(y)\n",
    "\n",
    "    def size(self, x):\n",
    "        return -self.root[self.find(x)]\n",
    "\n",
    "    def roots(self):\n",
    "        return [i for i, x in enumerate(self.root) if x < 0]\n",
    "\n",
    "    def group_size(self):\n",
    "        return len(self.roots())\n",
    "\n",
    "    def group_members(self):\n",
    "        group_members = defaultdict(list) \n",
    "        for member in range(self.n):\n",
    "            group_members[self.find(member)].append(member)\n",
    "        return group_members\n",
    "\n",
    "def judge():\n",
    "    N, M = map(int, input().split())\n",
    "    uf = UnionFind(N)\n",
    "    C = [0] * (N+1)  # 人が条件に出てくる回数をカウント\n",
    "    for _ in range(M):\n",
    "        a, b = map(int, input().split())\n",
    "        if uf.same(a, b):  # 閉路（ループ）がないか判定\n",
    "            return False\n",
    "        uf.unite(a, b)\n",
    "        C[a] += 1\n",
    "        C[b] += 1\n",
    "\n",
    "    for i in range(1,N+1):\n",
    "        if C[i] >= 3:  # 同時に3人以上と隣り合うことはできない\n",
    "            return False\n",
    "    return True\n",
    "\n",
    "\n",
    "print(\"Yes\" if judge() else \"No\")"
   ]
  },
  {
   "cell_type": "code",
   "execution_count": 2,
   "metadata": {},
   "outputs": [
    {
     "name": "stdout",
     "output_type": "stream",
     "text": [
      "2\n",
      "2\n",
      "2\n",
      "1\n",
      "2\n",
      "2\n",
      "1\n",
      "2\n",
      "1\n",
      "1\n"
     ]
    }
   ],
   "source": [
    "import itertools\n",
    "A = [1,1,1,1,0]\n",
    "for i in itertools.combinations(A, 2):\n",
    "    print(sum(i))"
   ]
  },
  {
   "cell_type": "code",
   "execution_count": 12,
   "metadata": {},
   "outputs": [
    {
     "name": "stdout",
     "output_type": "stream",
     "text": [
      "10\n"
     ]
    }
   ],
   "source": [
    "print(len(B))"
   ]
  },
  {
   "cell_type": "code",
   "execution_count": 3,
   "metadata": {},
   "outputs": [
    {
     "ename": "ModuleNotFoundError",
     "evalue": "No module named 'itertools.combinations'; 'itertools' is not a package",
     "output_type": "error",
     "traceback": [
      "\u001b[0;31m---------------------------------------------------------------------------\u001b[0m",
      "\u001b[0;31mModuleNotFoundError\u001b[0m                       Traceback (most recent call last)",
      "\u001b[0;32m/tmp/ipykernel_1009/2261704156.py\u001b[0m in \u001b[0;36m<module>\u001b[0;34m\u001b[0m\n\u001b[0;32m----> 1\u001b[0;31m \u001b[0;32mimport\u001b[0m \u001b[0mitertools\u001b[0m\u001b[0;34m.\u001b[0m\u001b[0mcombinations\u001b[0m\u001b[0;34m\u001b[0m\u001b[0;34m\u001b[0m\u001b[0m\n\u001b[0m\u001b[1;32m      2\u001b[0m \u001b[0;34m\u001b[0m\u001b[0m\n\u001b[1;32m      3\u001b[0m \u001b[0mN\u001b[0m\u001b[0;34m,\u001b[0m\u001b[0mP\u001b[0m\u001b[0;34m,\u001b[0m\u001b[0mQ\u001b[0m \u001b[0;34m=\u001b[0m \u001b[0mmap\u001b[0m\u001b[0;34m(\u001b[0m\u001b[0mint\u001b[0m\u001b[0;34m,\u001b[0m\u001b[0minput\u001b[0m\u001b[0;34m(\u001b[0m\u001b[0;34m)\u001b[0m\u001b[0;34m.\u001b[0m\u001b[0msplit\u001b[0m\u001b[0;34m(\u001b[0m\u001b[0;34m)\u001b[0m\u001b[0;34m)\u001b[0m\u001b[0;34m\u001b[0m\u001b[0;34m\u001b[0m\u001b[0m\n\u001b[1;32m      4\u001b[0m \u001b[0mA\u001b[0m \u001b[0;34m=\u001b[0m \u001b[0mlist\u001b[0m\u001b[0;34m(\u001b[0m\u001b[0mmap\u001b[0m\u001b[0;34m(\u001b[0m\u001b[0mint\u001b[0m\u001b[0;34m,\u001b[0m\u001b[0minput\u001b[0m\u001b[0;34m(\u001b[0m\u001b[0;34m)\u001b[0m\u001b[0;34m.\u001b[0m\u001b[0msplit\u001b[0m\u001b[0;34m(\u001b[0m\u001b[0;34m)\u001b[0m\u001b[0;34m)\u001b[0m\u001b[0;34m)\u001b[0m\u001b[0;34m\u001b[0m\u001b[0;34m\u001b[0m\u001b[0m\n\u001b[1;32m      5\u001b[0m \u001b[0mB\u001b[0m \u001b[0;34m=\u001b[0m \u001b[0mlist\u001b[0m\u001b[0;34m(\u001b[0m\u001b[0mitertools\u001b[0m\u001b[0;34m.\u001b[0m\u001b[0mcombinations\u001b[0m\u001b[0;34m(\u001b[0m\u001b[0mA\u001b[0m\u001b[0;34m,\u001b[0m \u001b[0;36m5\u001b[0m\u001b[0;34m)\u001b[0m\u001b[0;34m)\u001b[0m\u001b[0;34m\u001b[0m\u001b[0;34m\u001b[0m\u001b[0m\n",
      "\u001b[0;31mModuleNotFoundError\u001b[0m: No module named 'itertools.combinations'; 'itertools' is not a package"
     ]
    }
   ],
   "source": [
    "import itertools.combinations\n",
    "\n",
    "N,P,Q = map(int,input().split())\n",
    "A = list(map(int,input().split()))\n",
    "B = list(itertools.combinations(A, 5))\n",
    "ans = 0\n",
    "\n",
    "for b in B:\n",
    "    pro = b[0]*b[1]*b[2]*b[3]*b[4]\n",
    "    if pro % P == Q:\n",
    "    \tans += 1\n",
    "\n",
    "print(ans)"
   ]
  },
  {
   "cell_type": "code",
   "execution_count": null,
   "metadata": {},
   "outputs": [],
   "source": [
    "h, w = map(int,input().split())\n",
    "s = [list(input()) for _ in range(h)]\n",
    "\n",
    "dist = [[-1] * w for _ in range(h)] # distをグローバルで定義する\n",
    "d = ((1, 0), (-1, 0), (0, 1), (0, -1))\n",
    "\n",
    "def dfs(y: int, x: int, cnt) -> int:\n",
    "    # dfs(y,x,c): (x,y)から4方向に探索をして発見した最大閉路. (最大閉路はcntとdistの差で求まる)\n",
    "    # 一番最初のdfsが(0,0)から始まったとしても, 最大閉路に(0,0)が含まれるとは限らない\n",
    "    # 解説の図の解答とは異なる\n",
    "    if dist[y][x] != -1:\n",
    "        # distがグローバル変数だからこそ, 再帰でfor文のように状態管理ができる\n",
    "        if cnt - dist[y][x] >= 4: # >2であればいい. >=4は４マスを用いた四角形の閉路を想定している\n",
    "            return cnt - dist[y][x] # 最初の(0,0)とは関係なく, 閉路が出来上がればその閉路の使用マス数を出力\n",
    "        else:\n",
    "            return -1 # すぐ後戻りした場合\n",
    "\n",
    "    num = -1 # max関数用\n",
    "    dist[y][x] = cnt\n",
    "    for dy, dx in d:\n",
    "        if not (0 <= dy + y <= h - 1 and 0 <= dx + x <= w - 1): continue\n",
    "        if s[dy + y][dx + x] == \"#\": continue\n",
    "        num = max(num, dfs(dy + y, dx + x, cnt + 1))    \n",
    "    dist[y][x] = -1 # 一つの世界線が終了したらdistの探索済みを消す (他の世界線には影響させない)\n",
    "\n",
    "    return num\n",
    "\n",
    "ans = -1\n",
    "for i in range(h):\n",
    "    for j in range(w):\n",
    "        # 漏れがないよう全てのマス目から探索する\n",
    "        if s[i][j] == \"#\": continue\n",
    "        ans = max(ans, dfs(i, j, 0))\n",
    "\n",
    "print(ans)"
   ]
  },
  {
   "cell_type": "code",
   "execution_count": null,
   "metadata": {},
   "outputs": [],
   "source": [
    "'''\n",
    "この問題は木構造だからこそ解くことができる\n",
    "主客転倒\n",
    "下から順に考えると分かり良い\n",
    "各ノードの子の数を求めて他のノードとの積をとることで、自分の直上のエッジが何回接続するかを求める\n",
    "全てのノードでこれをする\n",
    "根に関しては、子ノード(+自分)以外のノードが存在しないので0となる\n",
    "'''\n",
    "\n",
    "import sys\n",
    "sys.setrecursionlimit(10 ** 6)\n",
    "\n",
    "n = int(input())\n",
    "g = [[] for _ in range(n)]\n",
    "for _ in range(n - 1):\n",
    "    a, b = map(int,input().split())\n",
    "    g[a - 1].append(b - 1)\n",
    "    g[b - 1].append(a - 1)\n",
    "\n",
    "def dfs(u: int, par: int) -> None:\n",
    "    '''\n",
    "    sizeというグローバルで定義されたリストを弄る関数\n",
    "    出力はない\n",
    "    size[u]: ノードuの子とノードu自身を合わせたノードの数\n",
    "    '''\n",
    "    for i in g[u]:\n",
    "        # iはuと接続するノード (この段階では親も含まれる)\n",
    "        if i == par: continue # 子ノードがなくなったら追加はしない (大きさ1のまま). \n",
    "        # ここで親ノードを除外するために関数の引数として親ノードが必要\n",
    "        dfs(i, u)\n",
    "        size[u] += size[i]\n",
    "\n",
    "size = [1] * n\n",
    "dfs(0, -1) # ノード0には親はいない\n",
    "\n",
    "ans = 0\n",
    "for i in range(n):\n",
    "    ans += size[i] * (n - size[i])\n",
    "\n",
    "print(ans)"
   ]
  },
  {
   "cell_type": "code",
   "execution_count": 10,
   "metadata": {},
   "outputs": [
    {
     "name": "stdout",
     "output_type": "stream",
     "text": [
      "1\n"
     ]
    }
   ],
   "source": [
    "from itertools import combinations\n",
    "import bisect\n",
    "\n",
    "N,K,P = map(int,input().split())\n",
    "A = list(map(int,input().split()))\n",
    "split = N // 2\n",
    "A1 = A[:split]\n",
    "A2 = A[split:]\n",
    "A1.sort()\n",
    "A2.sort()\n",
    "\n",
    "def buy_table(A):\n",
    "    '''\n",
    "    入力リスト A1 or A2 0 base index\n",
    "    出力リスト index: Kの値 (購入した商品数), content: 取りうる値のリスト 1 base index\n",
    "    出力リストの順番はめちゃくちゃ\n",
    "    '''\n",
    "    semilist = [[] for _ in range(len(A)+1)] \n",
    "    for k in range(len(A)+1):\n",
    "        for comb_A in combinations(A, k):\n",
    "            semilist[k].append(sum(comb_A))\n",
    "    \n",
    "    return semilist\n",
    "\n",
    "\n",
    "A1_list = buy_table(A1)            \n",
    "A2_list = buy_table(A2) \n",
    "\n",
    "ans = 0  \n",
    "for num, a1_pick in enumerate(A1_list):\n",
    "    # 配列参照エラーを避ける\n",
    "    if K-num > len(A2_list) - 1:\n",
    "        continue\n",
    "    if num > K:\n",
    "        break\n",
    "\n",
    "    a1_pick.sort()\n",
    "    a2_pick = A2_list[K-num]\n",
    "    a2_pick.sort()\n",
    "    for a1_sum in a1_pick:\n",
    "        if a1_sum > P:\n",
    "            break\n",
    "        ans += bisect.bisect_right(a2_pick, P-a1_sum) # 右側に追加する時のindexを表示することでP-a1_sumと等しいときもカウントする\n",
    "    \n",
    "print(ans)"
   ]
  },
  {
   "cell_type": "code",
   "execution_count": 22,
   "metadata": {},
   "outputs": [
    {
     "name": "stdout",
     "output_type": "stream",
     "text": [
      "4\n"
     ]
    }
   ],
   "source": [
    "import bisect\n",
    "A = [0,1,1,1,4]\n",
    "print(bisect.bisect_right(A, 1))"
   ]
  },
  {
   "cell_type": "code",
   "execution_count": null,
   "metadata": {},
   "outputs": [],
   "source": [
    "N,S = map(int,input().split())\n",
    "AB = [] # 0 base index\n",
    "for _ in range(N):\n",
    "    AB = list(map(int,input().split()))\n",
    "    AB.append(AB)\n",
    "\n",
    "DP = [[False]*(S+1) for _ in range(N+1)] # 1 base index\n",
    "\n",
    "# 日数を先に回そうが、金額で回そうが、DPは自分より小さいインデックスの上方から参照するので関係ない\n",
    "# あえて金額を先にfor文を回す\n",
    "\n",
    "DP[0][0] = True\n",
    "for j in range(1,S+1): # 金額\n",
    "    for i in range(1,N+1): # 日数\n",
    "        if DP[i-1][j-AB[i-1][0]] is True or DP[i-1][j-AB[i-1][1]] in True:\n",
    "            DP[i][j] = True\n",
    "\n",
    "def restore(n,s):\n",
    "    if DP[n-1][s-AB[n-1][0]] == Ture:\n",
    "        restore(n-1,s-AB[n-1][0])\n",
    "    \n",
    "    if DP[n-1][s-AB[n-1][1]] == Ture:\n",
    "        # 新規要素として\n",
    "        restore(n-1,s-AB[n-1][1])\n",
    "\n",
    "\n",
    "\n",
    "if DP[N][S] is False:\n",
    "    print(\"Impossible\")\n",
    "else:\n",
    "    while N>0:\n",
    "        if \n",
    "\n",
    "\n",
    "\n"
   ]
  },
  {
   "cell_type": "code",
   "execution_count": 1,
   "metadata": {},
   "outputs": [
    {
     "name": "stdout",
     "output_type": "stream",
     "text": [
      "sojfosf\n"
     ]
    }
   ],
   "source": [
    "ans = \"fsofjos\"\n",
    "print(ans[::-1])"
   ]
  },
  {
   "cell_type": "code",
   "execution_count": null,
   "metadata": {},
   "outputs": [],
   "source": [
    "n, s = map(int,input().split())\n",
    "a, b = [0] * n, [0] * n # 1 base index\n",
    "for i in range(n):\n",
    "    a[i], b[i] = map(int,input().split())\n",
    "\n",
    "# dp[i][j] := i日目までで合計金額がj円にできるかどうか\n",
    "dp = [[False] * (s + 1) for _ in range(n + 1)] # 1 base index\n",
    "dp[0][0] = True\n",
    "\n",
    " # このfor文の順序は逆でも当然成り立つ\n",
    "for i in range(n): # 日数\n",
    "    for j in range(s + 1): # 金額\n",
    "        if j - a[i] >= 0:\n",
    "            dp[i + 1][j] |= dp[i][j - a[i]]\n",
    "        if j - b[i] >= 0:\n",
    "            dp[i + 1][j] |= dp[i][j - b[i]]\n",
    "\n",
    "if not dp[n][s]:\n",
    "    exit(print(\"Impossible\"))\n",
    "\n",
    "ans = \"\"\n",
    "for i in reversed(range(n)):\n",
    "    # 第一選択はA. ない場合のみBを選択する.\n",
    "    Bool = True\n",
    "    if s - a[i] >= 0:\n",
    "        if dp[i][s - a[i]] == True:\n",
    "            ans += \"A\"\n",
    "            s -= a[i]\n",
    "            Bool = False # Aを使えるのでBは考慮しない (分岐を消す)\n",
    "    if s - b[i] >= 0 and Bool:\n",
    "        if dp[i][s - b[i]] == True:\n",
    "            ans += \"B\"\n",
    "            s -= b[i]\n",
    "\n",
    "print(ans[::-1])"
   ]
  },
  {
   "cell_type": "code",
   "execution_count": 5,
   "metadata": {},
   "outputs": [
    {
     "name": "stdout",
     "output_type": "stream",
     "text": [
      "deque([1, 2, 3, 7])\n",
      "4\n"
     ]
    }
   ],
   "source": [
    "# https://onlinejudge.u-aizu.ac.jp/courses/library/7/DPL/1/DPL_1_D\n",
    "# P422にはDPによる解法が乗っているが、実際解くにはP423に乗っているようなある種貪欲な方法のほうが計算量が少なく済む。\n",
    "\n",
    "from bisect import bisect_left, bisect_right, insort_left\n",
    "from collections import deque\n",
    "\n",
    "\n",
    "class BinarySearchTree:\n",
    "    def __init__(self, ls: list = []):\n",
    "        # ls ... 渡す初期配列\n",
    "        self.bst = deque(sorted(ls))  # insertをO(1)にするためにlistの代わりにdequeを用います\n",
    "\n",
    "    def __repr__(self):\n",
    "        return f'BST:{self.bst}'\n",
    "\n",
    "    def __len__(self):\n",
    "        return len(self.bst)\n",
    "\n",
    "    def __getitem__(self, idx):\n",
    "        return self.bst[idx]\n",
    "\n",
    "    def size(self):\n",
    "        return len(self.bst)\n",
    "\n",
    "    def insert(self, x):\n",
    "        insort_left(self.bst, x)\n",
    "\n",
    "    def remove(self, x):\n",
    "        '''\n",
    "        xを取り除く。xがself.bstに存在することを保証してください。\n",
    "        同一のものが存在した場合は左から消していく\n",
    "        '''\n",
    "        del self.bst[self.find(x)]\n",
    "\n",
    "    def bisect_left(self, x):\n",
    "        '''\n",
    "        ソートされた順序を保ったまま x を self.bst に挿入できる点を探し当てます。\n",
    "        '''\n",
    "        return bisect_left(self.bst, x)\n",
    "\n",
    "    def bisect_right(self, x):\n",
    "        '''\n",
    "        bisect_left() と似ていますが、 self.bst に含まれる x のうち、どのエントリーよりも後ろ(右)にくるような挿入点を返します。\n",
    "        '''\n",
    "        return bisect_right(self.bst, x)\n",
    "\n",
    "    def find(self, x):\n",
    "        '''\n",
    "        xのidxを探索\n",
    "        '''\n",
    "        idx = bisect_left(self.bst, x)\n",
    "        if idx != len(self.bst) and self.bst[idx] == x:\n",
    "            return idx\n",
    "        raise ValueError\n",
    "\n",
    "    def insert_replace_right(self, x):\n",
    "        '''\n",
    "        xを挿入して、xの右の数字(次に大きい)を削除する。idxがはみ出す場合は挿入だけ\n",
    "        '''\n",
    "        idx_del = self.bisect_left(x) + 1\n",
    "        if idx_del - 1 == len(self.bst):  # xがどの要素よりも大きい\n",
    "            self.insert(x)\n",
    "        else:\n",
    "            self.insert(x)\n",
    "            del self.bst[idx_del]\n",
    "\n",
    "\n",
    "\n",
    "A = [4,1,6,2,8,5,7,3]\n",
    "\n",
    "\n",
    "\n",
    "L = BinarySearchTree()\n",
    "L.insert(A[0])\n",
    "length = 0\n",
    "for a in A[1:]: #A[0]はすでに使用したから\n",
    "    L.insert_replace_right(a)\n",
    "    # # もし最長増加部分列の中身が知りたいなら、新たに長さが更新されたときに最適であることが保証されている\n",
    "    if len(L) > length:\n",
    "        length = len(L)\n",
    "        LIS = L.bst\n",
    "\n",
    "print(LIS)\n",
    "print(len(L))\n"
   ]
  },
  {
   "cell_type": "code",
   "execution_count": 11,
   "metadata": {},
   "outputs": [
    {
     "name": "stdout",
     "output_type": "stream",
     "text": [
      "5\n"
     ]
    }
   ],
   "source": [
    "import bisect\n",
    "\n",
    "def chimera_num(B):\n",
    "    # あるリストBのi番目で構成できる最長部分列を求める\n",
    "    # 出力: B_num[i] = リストBのi番目で構成できる最長部分列の要素数　0 base index \n",
    "    N = len(B)\n",
    "    L = [0]\n",
    "\n",
    "    L[0] = B[0]\n",
    "    length = 1 # 1 base index\n",
    "    last_index = 0\n",
    "    B_num = [[length,last_index]]\n",
    "\n",
    "    for i in range(1,N):\n",
    "        if L[length-1] < B[i]:\n",
    "            L.append(B[i])\n",
    "            length += 1\n",
    "            last_index = i\n",
    "            B_num.append([length,last_index])\n",
    "        else:\n",
    "            mutate_index = bisect.bisect_left(L, B[i])\n",
    "            L[mutate_index] = B[i]\n",
    "            B_num.append([length,last_index])\n",
    "\n",
    "    return B_num       \n",
    "\n",
    "N = int(input())\n",
    "A = list(map(int,input().split()))\n",
    "\n",
    "chimera_num_1 = chimera_num(A)\n",
    "chimera_num_1.insert(0, [0,0]) # 絶対に存在しないlast_indexで穴埋め\n",
    "A.reverse()\n",
    "chimera_num_2 = chimera_num(A)\n",
    "chimera_num_2.reverse()\n",
    "chimera_num_2.append([0,0])\n",
    "ans = 1 # これを0にするとエラーになる要素数1の場合, トンガリ条件で最終出力が0になってしまう\n",
    "\n",
    "for (chimera1,chimera2) in zip(chimera_num_1, chimera_num_2):\n",
    "    chimera3 = chimera1[0]+chimera2[0]\n",
    "    if chimera1[1] == chimera2[1]: # 条件が、トンガリを作らなくてはならない\n",
    "        chimera3 -= 1\n",
    "    ans = max(ans, chimera3)\n",
    "\n",
    "print(ans)\n"
   ]
  },
  {
   "cell_type": "code",
   "execution_count": 16,
   "metadata": {},
   "outputs": [
    {
     "data": {
      "text/plain": [
       "5"
      ]
     },
     "execution_count": 16,
     "metadata": {},
     "output_type": "execute_result"
    }
   ],
   "source": [
    "import bisect\n",
    "B = [1,2,2,2,2,4,4,4,5]\n",
    "bisect.bisect_left(B, 4)\n"
   ]
  },
  {
   "cell_type": "code",
   "execution_count": 29,
   "metadata": {},
   "outputs": [
    {
     "name": "stdout",
     "output_type": "stream",
     "text": [
      "[4, 1, 6, 2, 8, 5, 7, 3]\n"
     ]
    }
   ],
   "source": [
    "print(B)"
   ]
  },
  {
   "cell_type": "code",
   "execution_count": 5,
   "metadata": {},
   "outputs": [
    {
     "name": "stdout",
     "output_type": "stream",
     "text": [
      "[0, 1, 2, 3, 3, 3]\n"
     ]
    }
   ],
   "source": [
    "\n",
    "B_num.append(B_num[-1])\n",
    "print(B_num)"
   ]
  },
  {
   "cell_type": "code",
   "execution_count": null,
   "metadata": {},
   "outputs": [],
   "source": [
    "from bisect import bisect_left\n",
    "\n",
    "def LIS(x):\n",
    "    dp = [0] * n # 数列Xのi番目の数を最長部分列に採用した場合, その時点でどれだけの長さになっているか\n",
    "    now = [0]\n",
    "    for i in range(n):\n",
    "        j = bisect_left(now, x[i]) # 先に二分探索で入れる場所を探して, その場所によって分岐をしている\n",
    "        dp[i] = j\n",
    "        if j == len(now): # 最後尾に追加できる場合\n",
    "            now.append(x[i])\n",
    "        else:\n",
    "            now[j] = x[i]\n",
    "    return dp # リストXのi番目で構成できる最長部分列の要素数　0 base index \n",
    "\n",
    "n = int(input())\n",
    "a = list(map(int, input().split()))\n",
    "\n",
    "x = LIS(a) # 先頭からLIS\n",
    "y = LIS(a[::-1]) # 末尾からLIS\n",
    "\n",
    "ans = 0\n",
    "for i in range(n):\n",
    "    ans = max(ans, x[i] + y[-1 - i] - 1) # yは逆から回す. 同じ地点を共通する双方の最小部分列の大きさを足す. \n",
    "    # -1 はわからん\n",
    "\n",
    "print(ans)"
   ]
  },
  {
   "cell_type": "code",
   "execution_count": 6,
   "metadata": {},
   "outputs": [
    {
     "name": "stdout",
     "output_type": "stream",
     "text": [
      "0.0\n"
     ]
    }
   ],
   "source": [
    "from itertools import combinations\n",
    "\n",
    "N = int(input())\n",
    "LR = []\n",
    "\n",
    "for _ in range(N):\n",
    "    lr = list(map(int,input().split()))\n",
    "    LR.append(lr)\n",
    "\n",
    "# それぞれの二組の転倒数が起こる確率を足していく\n",
    "tentos = 0\n",
    "for comb in combinations(LR, 2):\n",
    "    # comb = ([l1,r1],[l2,r2])\n",
    "    comb1, comb2 = comb\n",
    "    if comb1[1] < comb2[0]:\n",
    "        continue\n",
    "    pattern = (comb1[1]-comb1[0]+1) * (comb2[1]-comb2[0]+1)\n",
    "    up = min(comb1[1],comb2[1])\n",
    "    bottom = max(comb1[0],comb2[0])\n",
    "    tento = (1/2) * (up-bottom+1) * ()\n",
    "    \n",
    "    \n",
    "    tentos += tento / pattern\n",
    "\n",
    "    \n",
    "\n",
    "\n",
    "print(tentos)\n"
   ]
  },
  {
   "cell_type": "code",
   "execution_count": null,
   "metadata": {},
   "outputs": [],
   "source": [
    "# 期待値の線形性\n",
    "n = int(input())\n",
    "l, r = [0] * n, [0] * n\n",
    "for i in range(n):\n",
    "    l[i], r[i] = map(int,input().split())\n",
    "\n",
    "ans = 0\n",
    "for i in range(n - 1): # n-1にするのがよい\n",
    "    for j in range(i + 1, n): # for文のネストにより組み合わせを列挙\n",
    "        x = r[i] - l[i] + 1 # 取りうる値の幅\n",
    "        y = r[j] - l[j] + 1 # 取りうる値の幅\n",
    "        under = x * y # 取りうる数字の組み合わせ\n",
    "        for k in range(l[i], r[i] + 1): # i の中身それぞれに対して見ていく\n",
    "            top = max(0, min(k - 1, r[j]) - l[j] + 1)\n",
    "            '''\n",
    "            jの右側の区間が対象より大きいか小さいかを場合分けするのではなく, min(k - 1, r[j])\n",
    "            としている. jの右側の区間のほうが小さいときは, +1をしなくてはならないが, +1することを\n",
    "            前提とし, min文のほうをk-1としている.\n",
    "            場合分けが不十分なので, 負の値になる可能性があるが, max(0,)を用いることで回避している.\n",
    "            '''\n",
    "            ans += top / under\n",
    "\n",
    "print(ans)"
   ]
  },
  {
   "cell_type": "code",
   "execution_count": null,
   "metadata": {},
   "outputs": [],
   "source": [
    "# 答えはlistの形式で保存し, 最後に改行出力する.\n",
    "# 数列Aは1 base index\n",
    "\n",
    "def find(x):\n",
    "    # 親が自分自身のノードまで遡る\n",
    "    if par[x] == x:\n",
    "        return x\n",
    "    else:\n",
    "        par[x] = find(par[x])\n",
    "        return par[x]\n",
    "\n",
    "def same(x, y):\n",
    "    return find(x) == find(y)\n",
    "\n",
    "def unite(x, y):\n",
    "    # 元のノード番号の大小で親子関係を決めてしまう\n",
    "    x = find(x)\n",
    "    y = find(y)\n",
    "    if x == y:\n",
    "        return 0\n",
    "    if x < y:\n",
    "        x, y = y, x\n",
    "    par[x] = y\n",
    "\n",
    "N = int(input())\n",
    "Q = int(input())\n",
    "par = [i for i in range(N)] # 0 base index\n",
    "\n",
    "ans = [] # 答えが求まらないときは\"Ambiguous\"を, それ以外は[X,Y,V]を格納する\n",
    "conection = [] # T = 0 の時, [X,Y,V]を格納する\n",
    "\n",
    "for _ in range(Q):\n",
    "    T,X,Y,V = map(int,input().split())\n",
    "    X -= 1\n",
    "    Y -= 1\n",
    "    if T==0:\n",
    "        unite(X, Y)\n",
    "        conection.append([X,Y,V])\n",
    "    else:\n",
    "        if same(X,Y):\n",
    "            ans.append([X,Y,V])\n",
    "        else:\n",
    "            ans.append('Ambiguous')\n",
    "\n",
    "conection = sorted(conection, key=lambda x: x[0])\n",
    "node = [0]*N\n",
    "\n",
    "for pipe in conection:\n",
    "    X,Y,V = pipe\n",
    "    node[Y] = V - node[X]\n",
    "\n",
    "for i,xyv in enumerate(ans):\n",
    "    if xyv == 'Ambiguous':\n",
    "        continue\n",
    "    else:\n",
    "        X,Y,V = xyv\n",
    "        if (X%2) == (Y%2):\n",
    "            Ay = node[Y] + (V-node[X])\n",
    "            ans[i] = Ay      \n",
    "        else:\n",
    "            Ay = node[Y] - (V-node[X])\n",
    "            ans[i] = Ay\n",
    "\n",
    "print(*ans, sep = \"\\n\")"
   ]
  },
  {
   "cell_type": "code",
   "execution_count": 17,
   "metadata": {},
   "outputs": [
    {
     "name": "stdout",
     "output_type": "stream",
     "text": [
      "[[1, 3, 1], [1, 2, 2], [1, 3, 3], [1, 7, 5], [1, 6, 6]]\n"
     ]
    }
   ],
   "source": [
    "# 模範解答\n",
    "class segtree():\n",
    "    n=1\n",
    "    size=1\n",
    "    log=2\n",
    "    d=[0]\n",
    "    op=None\n",
    "    e=10**15\n",
    "    def __init__(self,V,OP,E):\n",
    "        self.n=len(V)\n",
    "        self.op=OP\n",
    "        self.e=E\n",
    "        self.log=(self.n-1).bit_length()\n",
    "        self.size=1<<self.log\n",
    "        self.d=[E for i in range(2*self.size)]\n",
    "        for i in range(self.n):\n",
    "            self.d[self.size+i]=V[i]\n",
    "        for i in range(self.size-1,0,-1):\n",
    "            self.update(i)\n",
    "    def set(self,p,x):\n",
    "        assert 0<=p and p<self.n\n",
    "        p+=self.size\n",
    "        self.d[p]=x\n",
    "        for i in range(1,self.log+1):\n",
    "            self.update(p>>i)\n",
    "    def prod(self,l,r):\n",
    "        assert 0<=l and l<=r and r<=self.n\n",
    "        sml=self.e\n",
    "        smr=self.e\n",
    "        l+=self.size\n",
    "        r+=self.size\n",
    "        while(l<r):\n",
    "            if (l&1):\n",
    "                sml=self.op(sml,self.d[l])\n",
    "                l+=1\n",
    "            if (r&1):\n",
    "                smr=self.op(self.d[r-1],smr)\n",
    "                r-=1\n",
    "            l>>=1\n",
    "            r>>=1\n",
    "        return self.op(sml,smr)\n",
    "\n",
    "    def update(self,k):\n",
    "        self.d[k]=self.op(self.d[2*k],self.d[2*k+1])\n",
    "\n",
    "def add(x, y):\n",
    "    return x + y\n",
    "\n",
    "n = int(input())\n",
    "q = int(input())\n",
    "\n",
    "t, x, y, v = [0] * q, [0] * q, [0] * q, [0] * q\n",
    "for i in range(q):\n",
    "    t[i], x[i], y[i], v[i] = map(int,input().split())\n",
    "\n",
    "s = segtree([1] * n, add, 0)\n",
    "\n",
    "sum = [0] * n\n",
    "\n",
    "for i in range(q):\n",
    "    if t[i] == 0:\n",
    "        sum[x[i]] = v[i] # 左側に和の条件を格納\n",
    "#print(sum)\n",
    "pot = [0] * (n + 1)\n",
    "for i in range(1, n):\n",
    "    pot[i + 1] = sum[i] - pot[i] # 値をスライドさせていく # ここまでは俺の実装と同じ. # 1 base indexにしている\n",
    "#print(pot)\n",
    "for i in range(q):\n",
    "    if t[i] == 0:\n",
    "        s.set(x[i], 0)\n",
    "    elif t[i] == 1:\n",
    "        a = min(x[i], y[i])\n",
    "        b = max(x[i], y[i])\n",
    "        it = s.prod(a, b) #\n",
    "        if it == 0:\n",
    "            print(pot[y[i]] + (v[i] - pot[x[i]]) if (b - a) % 2 == 0 else pot[y[i]] - (v[i] - pot[x[i]])) # indexの偶奇が等しいかで場合分け\n",
    "        else:\n",
    "            print('Ambiguous')"
   ]
  },
  {
   "cell_type": "code",
   "execution_count": 12,
   "metadata": {},
   "outputs": [],
   "source": [
    "\"\"\"\n",
    "〜segfuncの使い方について〜\n",
    "update(k, x): k番目の要素をxに更新する\n",
    "query(l, r): [l, r)（l <= k < r の区間）から値kを取得する\n",
    "\"\"\"\n",
    "def segfunc(x: int, y: int) -> int:\n",
    "    \"ここで求めたい処理を行う, max(x, y) や x ^ y (排他的論理和) など\"\n",
    "    return x+y\n",
    "\n",
    "\"\"\"\n",
    "〜単位元の一覧について〜\n",
    "最小値：float(\"inf\")\n",
    "最大値：-float(\"inf\")\n",
    "XOR：0\n",
    "区間和：0\n",
    "区間積：1\n",
    "最大公約数：0\n",
    "\"\"\"\n",
    "ide_ele = 0 # 初期値（単位元）の設定\n",
    "\n",
    "class LazySegmentTree:\n",
    "    # 0 index, init_valに初期配列を格納\n",
    "    def __init__(self, init_val, segfunc, ide_ele):\n",
    "        n = len(init_val) # init_valが初期値のリストになる。今回はa = [0] * w、本来的に扱いたい数たちの個数\n",
    "        self.segfunc = segfunc\n",
    "        self.ide_ele = ide_ele\n",
    "        # nより上の数の2の累乗数で一番小さいのがnum\n",
    "        self.num = 1 << (n - 1).bit_length() # 2**(n - 1).bit_length()  x.bit_length() は 2**(k-1) <= abs(x) < 2**k を満たすk\n",
    "        self.data = [ide_ele] * 2 * self.num # 最大でもこの数のみ必要 (少し余る)\n",
    "        self.lazy = [None] * 2 * self.num # 最大でもこの数のみ必要\n",
    "        for i in range(n):\n",
    "            self.data[self.num + i] = init_val[i] # 底辺の初期値を入れる。底辺の初期値の数はあくまで「 n 」\n",
    "        for i in range(self.num - 1, 0, -1): # 上側のノード\n",
    "            self.data[i] = self.segfunc(self.data[2 * i], self.data[2 * i + 1]) # 下の子に対してself.segfuncを実行をして、親ノードに渡す\n",
    "\n",
    "# self.dataのself.numまでは2**xで連結する木構造が格納されているが (self.data[0]が一番上の根)、self.dataのself.num+1からは底辺の値\n",
    "\n",
    "    def gindex(self, l, r): # lからrまでの変数の増加で変更しなくてはならない上流ノードをイテレータとして返してくれる\n",
    "        l += self.num # 底辺はself.numから始まるのでプラスする\n",
    "        r += self.num\n",
    "        lm = l >> (l & -l).bit_length() # ある数の約数の中で2**xの形で表せられるものの中で最大のもの\n",
    "        rm = r >> (r & -r).bit_length() # 初めて自分より小さい値が入ってくるような覆いかぶさりの値\n",
    "        # 例: l=3, r=8の場合、\n",
    "        while l < r: # 返り値は２つ\n",
    "            if l <= lm:\n",
    "                yield l\n",
    "            if r <= rm:\n",
    "                yield r\n",
    "            r >>= 1  # 2で割っている\n",
    "            l >>= 1  # 奇数の上に完全覆いかぶさりは存在せず、2で割り続けて最初に出てくる奇数はそれまでの完全覆いかぶさり\n",
    "        while l: # 返り値は１つ\n",
    "            yield l\n",
    "            l >>= 1\n",
    "\n",
    "    def propagates(self, *ids): # 以下のupdate、queryを行う度にpropagatesを行い、lazyの値を下に下ろす\n",
    "        for i in reversed(ids): # 変更しなくてはならない上流ノードから下流へ変更を伝える\n",
    "            # そのノードのlazyを下へとバトンパスする\n",
    "            v = self.lazy[i]\n",
    "            if v is None:\n",
    "                continue\n",
    "            self.lazy[2 * i] = v\n",
    "            self.lazy[2 * i + 1] = v\n",
    "            self.data[2 * i] = v\n",
    "            self.data[2 * i + 1] = v\n",
    "            self.lazy[i] = None\n",
    "\n",
    "    def update(self, l, r, x): # 底辺のノードが更新されたことによる区間最大値の更新 (+1をする)\n",
    "        *ids, = self.gindex(l, r)\n",
    "        self.propagates(*ids) # 指定範囲内のlazyを処理\n",
    "        l += self.num\n",
    "        r += self.num\n",
    "        while l < r:\n",
    "            if l & 1:\n",
    "                self.lazy[l] = x\n",
    "                self.data[l] = x\n",
    "                l += 1\n",
    "            if r & 1:\n",
    "                self.lazy[r - 1] = x\n",
    "                self.data[r - 1] = x\n",
    "            r >>= 1\n",
    "            l >>= 1\n",
    "        for i in ids:\n",
    "            self.data[i] = self.segfunc(self.data[2 * i], self.data[2 * i + 1])\n",
    "\n",
    "    def query(self, l, r): # lからrまでの最大値を取得\n",
    "        *ids, = self.gindex(l, r)\n",
    "        self.propagates(*ids)  # 指定範囲内のlazyを処理\n",
    "        res = self.ide_ele\n",
    "        l += self.num\n",
    "        r += self.num\n",
    "        while l < r:\n",
    "            if l & 1:\n",
    "                res = self.segfunc(res, self.data[l])\n",
    "                l += 1\n",
    "            if r & 1:\n",
    "                res = self.segfunc(res, self.data[r - 1])\n",
    "            l >>= 1\n",
    "            r >>= 1\n",
    "        return res\n",
    "'''\n",
    "w, n = map(int,input().split()) # 配列の長さ・クエリ数\n",
    "a = [0] * w\n",
    "seg = LazySegmentTree(a, segfunc, ide_ele)\n",
    "for i in range(n):\n",
    "    l, r = map(int,input().split())\n",
    "    cnt = seg.query(l - 1, r) # l, r は1 index,rは開区間なのでそのまま利用。0 indexで[l-1,r)のうちの最大値を取得する)\n",
    "    seg.update(l - 1, r, cnt + 1) # 0 indexで[l-1,r)の区間をその最大値 +1 に書き換える\n",
    "    print(cnt + 1)\n",
    "'''\n",
    "n = int(input())\n",
    "q = int(input())\n",
    "\n",
    "t, x, y, v = [0] * q, [0] * q, [0] * q, [0] * q\n",
    "for i in range(q):\n",
    "    t[i], x[i], y[i], v[i] = map(int,input().split())\n",
    "    x[i] -= 1\n",
    "    y[i] -= 1\n",
    "\n",
    "s = LazySegmentTree([1] * n, segfunc, ide_ele)\n",
    "\n",
    "sum = [0] * n\n",
    "\n",
    "for i in range(q):\n",
    "    if t[i] == 0:\n",
    "        sum[x[i]] = v[i] # 左側に和の条件を格納\n",
    "#print(sum)\n",
    "pot = [0] * n\n",
    "for i in range(n-1):\n",
    "    pot[i + 1] = sum[i] - pot[i] # 値をスライドさせていく # ここまでは俺の実装と同じ. \n",
    "#print(pot)\n",
    "for i in range(q):\n",
    "    if t[i] == 0:\n",
    "        s.update(x[i],x[i]+1,0)\n",
    "    elif t[i] == 1:\n",
    "        a = min(x[i], y[i])\n",
    "        b = max(x[i], y[i])\n",
    "        it = s.query(a, b+1) #\n",
    "        if it == 0:\n",
    "            print(pot[y[i]] + (v[i] - pot[x[i]]) if (b - a) % 2 == 0 else pot[y[i]] - (v[i] - pot[x[i]])) # indexの偶奇が等しいかで場合分け\n",
    "        else:\n",
    "            print('Ambiguous')"
   ]
  },
  {
   "cell_type": "code",
   "execution_count": 13,
   "metadata": {},
   "outputs": [
    {
     "name": "stdout",
     "output_type": "stream",
     "text": [
      "[[3, 4], -1, -1]\n"
     ]
    }
   ],
   "source": [
    "print(ans)"
   ]
  },
  {
   "cell_type": "code",
   "execution_count": 18,
   "metadata": {},
   "outputs": [],
   "source": [
    "a,b,c = [3,4,5]"
   ]
  },
  {
   "cell_type": "code",
   "execution_count": 19,
   "metadata": {},
   "outputs": [
    {
     "name": "stdout",
     "output_type": "stream",
     "text": [
      "4\n"
     ]
    }
   ],
   "source": [
    "print(b)"
   ]
  },
  {
   "cell_type": "code",
   "execution_count": null,
   "metadata": {},
   "outputs": [],
   "source": [
    "import bisect\n",
    "A = [0,1,1,1,4]\n",
    "print(bisect.bisect_right(A, 1))\n",
    "\n",
    "N,K = map(int,input().split())\n",
    "A = []\n",
    "B = []\n",
    "\n",
    "\n",
    "for _ in range(N):\n",
    "    a,b = map(int, input().split())\n",
    "    A.append(a)\n",
    "    B.append(b)\n",
    "\n",
    "A.sort()\n",
    "B.sort()\n",
    "Aset = set(A)\n",
    "Bset = set(B)\n",
    "\n",
    "def max_dot(A,Aset):\n",
    "    ans = 1\n",
    "    for position in Aset:\n",
    "        ans_r = bisect.bisect_right(A, position+K)\n",
    "        ans_l = bisect.bisect_left(A, position)\n",
    "        ans = max(ans, ans_r-ans_l)\n",
    "\n",
    "\n"
   ]
  },
  {
   "cell_type": "code",
   "execution_count": 28,
   "metadata": {},
   "outputs": [
    {
     "name": "stdout",
     "output_type": "stream",
     "text": [
      "5\n",
      "1\n"
     ]
    }
   ],
   "source": [
    "import bisect\n",
    "A = [0,1,1,1,4]\n",
    "print(bisect.bisect_right(A, 4))\n",
    "print(bisect.bisect_left(A, 1))"
   ]
  },
  {
   "cell_type": "code",
   "execution_count": null,
   "metadata": {},
   "outputs": [],
   "source": [
    "N,K = map(int,input().split())\n",
    "grid = [[0]*5001 for _ in range(5001)]\n",
    "\n",
    "# Aを行数, Bを列数としてプロットする\n",
    "for _ in range(N):\n",
    "    a,b = map(int,input().split())\n",
    "    grid[a][b] += 1\n",
    "\n",
    "# 累積和を取る\n",
    "# 横縦方向に一期的に累積和\n",
    "for gyo in range(1,5001):\n",
    "    for retu in range(1,5001):\n",
    "        grid[gyo][retu] += grid[gyo-1][retu-1]\n",
    "\n",
    "ans = 1\n",
    "# 全探索 K+1マス×K+1マス使う(差がKの四角形)\n",
    "for gyo in range(5001):\n",
    "    for retu in range(5001):\n",
    "\n",
    "        # 左上[gyo,retu], 右下[gyo+K,retu+K]\n",
    "        ans = max(ans, grid[gyo+K][retu+K] - grid[gyo][retu+K] - grid[gyo+K][retu] +grid[gyo][retu])\n",
    "\n",
    "print(ans)"
   ]
  },
  {
   "cell_type": "code",
   "execution_count": 31,
   "metadata": {},
   "outputs": [
    {
     "ename": "SyntaxError",
     "evalue": "invalid syntax (3520047983.py, line 2)",
     "output_type": "error",
     "traceback": [
      "\u001b[0;36m  File \u001b[0;32m\"/tmp/ipykernel_610/3520047983.py\"\u001b[0;36m, line \u001b[0;32m2\u001b[0m\n\u001b[0;31m    [3,5] + *a\u001b[0m\n\u001b[0m            ^\u001b[0m\n\u001b[0;31mSyntaxError\u001b[0m\u001b[0;31m:\u001b[0m invalid syntax\n"
     ]
    }
   ],
   "source": [
    "a = [5,6]\n",
    "[3,5] + *a"
   ]
  },
  {
   "cell_type": "code",
   "execution_count": null,
   "metadata": {},
   "outputs": [],
   "source": [
    "N,K = map(int,input().split())\n",
    "grid = [[0]*5001 for _ in range(5001)]\n",
    "\n",
    "# Aを行数, Bを列数としてプロットする\n",
    "for _ in range(N):\n",
    "    a,b = map(int,input().split())\n",
    "    grid[a][b] += 1\n",
    "\n",
    "# 累積和を取る\n",
    "# 横方向に累積和\n",
    "for gyo in range(1,5001):\n",
    "    for retu in range(1,5001):\n",
    "        grid[gyo][retu] += grid[gyo][retu-1]\n",
    "\n",
    "for retu in range(1,5001):\n",
    "    for gyo in range(1,5001):\n",
    "        grid[gyo][retu] += grid[gyo-1][retu]\n",
    "\n",
    "ans = 1\n",
    "# 全探索 K+1マス×K+1マス使う\n",
    "for gyo in range(1,5000):\n",
    "    for retu in range(1,5000):\n",
    "        gyogyo = min(gyo+K,5000)\n",
    "        returetu = min(retu+K,5000) \n",
    "        ans = max(ans, grid[gyogyo][returetu] - grid[gyo-1][returetu] - grid[gyogyo][retu-1] +grid[gyo-1][retu-1])\n",
    "\n",
    "print(ans)"
   ]
  },
  {
   "cell_type": "code",
   "execution_count": 39,
   "metadata": {},
   "outputs": [
    {
     "data": {
      "text/plain": [
       "425614948"
      ]
     },
     "execution_count": 39,
     "metadata": {},
     "output_type": "execute_result"
    }
   ],
   "source": [
    "((2**120)*7) % 1000000007"
   ]
  },
  {
   "cell_type": "code",
   "execution_count": 40,
   "metadata": {},
   "outputs": [
    {
     "data": {
      "text/plain": [
       "536396504"
      ]
     },
     "execution_count": 40,
     "metadata": {},
     "output_type": "execute_result"
    }
   ],
   "source": [
    "2**60 % 1000000007"
   ]
  },
  {
   "cell_type": "code",
   "execution_count": 41,
   "metadata": {},
   "outputs": [
    {
     "data": {
      "text/plain": [
       "489373567"
      ]
     },
     "execution_count": 41,
     "metadata": {},
     "output_type": "execute_result"
    }
   ],
   "source": [
    "536396504**2 % 1000000007"
   ]
  },
  {
   "cell_type": "code",
   "execution_count": 42,
   "metadata": {},
   "outputs": [
    {
     "data": {
      "text/plain": [
       "425614948"
      ]
     },
     "execution_count": 42,
     "metadata": {},
     "output_type": "execute_result"
    }
   ],
   "source": [
    "(489373567 * 7)% 1000000007"
   ]
  },
  {
   "cell_type": "code",
   "execution_count": null,
   "metadata": {},
   "outputs": [],
   "source": []
  }
 ],
 "metadata": {
  "interpreter": {
   "hash": "31f2aee4e71d21fbe5cf8b01ff0e069b9275f58929596ceb00d14d90e3e16cd6"
  },
  "kernelspec": {
   "display_name": "Python 3.6.9 64-bit",
   "language": "python",
   "name": "python3"
  },
  "language_info": {
   "codemirror_mode": {
    "name": "ipython",
    "version": 3
   },
   "file_extension": ".py",
   "mimetype": "text/x-python",
   "name": "python",
   "nbconvert_exporter": "python",
   "pygments_lexer": "ipython3",
   "version": "3.8.10"
  },
  "orig_nbformat": 4
 },
 "nbformat": 4,
 "nbformat_minor": 2
}
