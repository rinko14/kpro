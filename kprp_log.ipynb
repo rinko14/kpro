{
 "cells": [
  {
   "cell_type": "code",
   "execution_count": 1,
   "metadata": {},
   "outputs": [],
   "source": [
    "import numpy"
   ]
  },
  {
   "cell_type": "code",
   "execution_count": 12,
   "metadata": {},
   "outputs": [
    {
     "name": "stdout",
     "output_type": "stream",
     "text": [
      "16\n"
     ]
    }
   ],
   "source": [
    "K = int(input())\n",
    "divisor = [i for i in range(1, K+1) if K % i ==0]\n",
    "count = 0\n",
    "for a in range(len(divisor)):\n",
    "    if divisor[a]**3 > K:\n",
    "        break\n",
    "    for b in range(a,len(divisor)):\n",
    "        if divisor[a]*divisor[b]*divisor[b] > K:\n",
    "            break\n",
    "        if K % (divisor[a] * divisor[b]) == 0:\n",
    "            count += 1\n",
    "\n",
    "print(count)"
   ]
  },
  {
   "cell_type": "code",
   "execution_count": 13,
   "metadata": {},
   "outputs": [
    {
     "name": "stdout",
     "output_type": "stream",
     "text": [
      "5\n"
     ]
    }
   ],
   "source": [
    "K = int(input())\n",
    "count = 0\n",
    "for a in range(1,K+1):\n",
    "    if a**3 > K:\n",
    "        break\n",
    "    for b in range(a,K+1):\n",
    "        if a*b*b > K:\n",
    "            break\n",
    "        if K % (a * b) == 0:\n",
    "            count += 1\n",
    "\n",
    "print(count)"
   ]
  },
  {
   "cell_type": "code",
   "execution_count": 4,
   "metadata": {},
   "outputs": [
    {
     "name": "stdout",
     "output_type": "stream",
     "text": [
      "feeg\n"
     ]
    }
   ],
   "source": [
    "a = str(input())\n",
    "print(a)"
   ]
  },
  {
   "cell_type": "code",
   "execution_count": 6,
   "metadata": {},
   "outputs": [
    {
     "name": "stdout",
     "output_type": "stream",
     "text": [
      "/home/sojiro/.local/lib/python3.8/site-packages/pkg_resources/__init__.py:116: PkgResourcesDeprecationWarning: 0.23ubuntu1 is an invalid version and will not be supported in a future release\n",
      "  warnings.warn(\n",
      "/home/sojiro/.local/lib/python3.8/site-packages/pkg_resources/__init__.py:116: PkgResourcesDeprecationWarning: 0.1.36ubuntu1 is an invalid version and will not be supported in a future release\n",
      "  warnings.warn(\n",
      "attrs==19.3.0\n",
      "Automat==0.8.0\n",
      "backcall==0.2.0\n",
      "blinker==1.4\n",
      "certifi==2019.11.28\n",
      "chardet==3.0.4\n",
      "Click==7.0\n",
      "cloud-init==21.4\n",
      "colorama==0.4.3\n",
      "command-not-found==0.3\n",
      "configobj==5.0.6\n",
      "constantly==15.1.0\n",
      "cryptography==2.8\n",
      "dbus-python==1.2.16\n",
      "debugpy==1.5.1\n",
      "decorator==5.1.0\n",
      "distro==1.4.0\n",
      "distro-info===0.23ubuntu1\n",
      "entrypoints==0.3\n",
      "httplib2==0.14.0\n",
      "hyperlink==19.0.0\n",
      "idna==2.8\n",
      "importlib-metadata==1.5.0\n",
      "incremental==16.10.1\n",
      "ipykernel==6.5.1\n",
      "ipython==7.29.0\n",
      "jedi==0.18.1\n",
      "Jinja2==2.10.1\n",
      "jsonpatch==1.22\n",
      "jsonpointer==2.0\n",
      "jsonschema==3.2.0\n",
      "jupyter-client==7.1.0\n",
      "jupyter-core==4.9.1\n",
      "keyring==18.0.1\n",
      "language-selector==0.1\n",
      "launchpadlib==1.10.13\n",
      "lazr.restfulclient==0.14.2\n",
      "lazr.uri==1.0.3\n",
      "MarkupSafe==1.1.0\n",
      "matplotlib-inline==0.1.3\n",
      "more-itertools==4.2.0\n",
      "nest-asyncio==1.5.1\n",
      "netifaces==0.10.4\n",
      "oauthlib==3.1.0\n",
      "parso==0.8.2\n",
      "pexpect==4.8.0\n",
      "pickleshare==0.7.5\n",
      "prompt-toolkit==3.0.22\n",
      "ptyprocess==0.7.0\n",
      "pyasn1==0.4.2\n",
      "pyasn1-modules==0.2.1\n",
      "Pygments==2.10.0\n",
      "PyGObject==3.36.0\n",
      "PyHamcrest==1.9.0\n",
      "PyJWT==1.7.1\n",
      "pymacaroons==0.13.0\n",
      "PyNaCl==1.3.0\n",
      "pyOpenSSL==19.0.0\n",
      "pyrsistent==0.15.5\n",
      "pyserial==3.4\n",
      "python-apt==2.0.0+ubuntu0.20.4.6\n",
      "python-dateutil==2.8.2\n",
      "python-debian===0.1.36ubuntu1\n",
      "PyYAML==5.3.1\n",
      "pyzmq==22.3.0\n",
      "requests==2.22.0\n",
      "requests-unixsocket==0.2.0\n",
      "SecretStorage==2.3.1\n",
      "service-identity==18.1.0\n",
      "simplejson==3.16.0\n",
      "six==1.16.0\n",
      "sos==4.1\n",
      "ssh-import-id==5.10\n",
      "systemd-python==234\n",
      "tornado==6.1\n",
      "traitlets==5.1.1\n",
      "Twisted==18.9.0\n",
      "ubuntu-advantage-tools==27.4\n",
      "ufw==0.36\n",
      "unattended-upgrades==0.1\n",
      "urllib3==1.25.8\n",
      "wadllib==1.3.3\n",
      "wcwidth==0.2.5\n",
      "zipp==1.0.0\n",
      "zope.interface==4.7.1\n"
     ]
    }
   ],
   "source": [
    "!pip freeze"
   ]
  },
  {
   "cell_type": "code",
   "execution_count": 1,
   "metadata": {},
   "outputs": [
    {
     "ename": "ModuleNotFoundError",
     "evalue": "No module named 'numpy'",
     "output_type": "error",
     "traceback": [
      "\u001b[0;31m---------------------------------------------------------------------------\u001b[0m",
      "\u001b[0;31mModuleNotFoundError\u001b[0m                       Traceback (most recent call last)",
      "\u001b[0;32m/tmp/ipykernel_804/2172125874.py\u001b[0m in \u001b[0;36m<module>\u001b[0;34m\u001b[0m\n\u001b[0;32m----> 1\u001b[0;31m \u001b[0;32mimport\u001b[0m \u001b[0mnumpy\u001b[0m\u001b[0;34m\u001b[0m\u001b[0;34m\u001b[0m\u001b[0m\n\u001b[0m",
      "\u001b[0;31mModuleNotFoundError\u001b[0m: No module named 'numpy'"
     ]
    }
   ],
   "source": [
    "import numpy"
   ]
  },
  {
   "cell_type": "code",
   "execution_count": 5,
   "metadata": {},
   "outputs": [
    {
     "name": "stdout",
     "output_type": "stream",
     "text": [
      "Yes\n"
     ]
    }
   ],
   "source": [
    "S1 = list(str(input()))\n",
    "S2 = list(str(input()))\n",
    "\n",
    "if S1.count(\"#\") + S2.count(\"#\") >= 3:\n",
    "    print(\"Yes\")\n",
    "elif S1.count(\"#\") == 2 or S2.count(\"#\") == 2:\n",
    "    print(\"Yes\")\n",
    "elif (S1[0]==\"#\" and S2[0]==\"#\") or (S1[1]==\"#\" and S2[1]==\"#\"):\n",
    "    print(\"Yes\")\n",
    "else:\n",
    "    print(\"No\")\n",
    "\n"
   ]
  },
  {
   "cell_type": "code",
   "execution_count": 10,
   "metadata": {},
   "outputs": [
    {
     "name": "stdout",
     "output_type": "stream",
     "text": [
      "Easy\n"
     ]
    }
   ],
   "source": [
    "A,B = map(int,input().split())\n",
    "length = min(len(str(A)) , len(str(B)))\n",
    "Ar = list(reversed(str(A)))\n",
    "Br = list(reversed(str(B)))\n",
    "handan = 0\n",
    "for i in range(length):\n",
    "    if int(Ar[i])+int(Br[i]) >= 10:\n",
    "        print(\"Hard\")\n",
    "        handan = 1\n",
    "        break\n",
    "\n",
    "if handan == 0:\n",
    "    print(\"Easy\")\n"
   ]
  },
  {
   "cell_type": "code",
   "execution_count": null,
   "metadata": {},
   "outputs": [],
   "source": [
    "N, W = map(int,input().split())\n",
    "AB = [list(map(int,input().split())) for _ in range(N)]\n",
    "AB = sorted(AB, reverse=True, key=lambda x: x[0]) \n",
    "\n",
    "OISHI = 0\n",
    "i = 0\n",
    "\n",
    "while W != 0 and i != N:\n",
    "    oishi = AB[i][0]\n",
    "    if AB[i][1] <= W:\n",
    "        OISHI += oishi*AB[i][1]\n",
    "        W -= AB[i][1]\n",
    "        i += 1\n",
    "    else:\n",
    "        OISHI += oishi*W\n",
    "        W = 0\n",
    "\n",
    "print(OISHI)"
   ]
  },
  {
   "cell_type": "code",
   "execution_count": 14,
   "metadata": {},
   "outputs": [
    {
     "name": "stdout",
     "output_type": "stream",
     "text": [
      "[4]\n",
      "[]\n"
     ]
    }
   ],
   "source": [
    "S = list(str(input()))\n",
    "K = input()\n",
    "length = len(S)\n",
    "Xlist = []\n",
    "dotlist = []\n",
    "Xcount = 0\n",
    "dotcount = 0\n",
    "before = \"mada\"\n",
    "for i in range(length):\n",
    "    if i == 0:\n",
    "        before = S[i]\n",
    "        if before == \"X\":\n",
    "            Xcount += 1\n",
    "        if before == \".\":\n",
    "            dotcount += 1\n",
    "    \n",
    "    elif S[i] == \"X\":\n",
    "        if before == \".\":\n",
    "            if dotcount != 0:\n",
    "                dotlist.append(dotcount)\n",
    "            dotcount = 0\n",
    "            Xcount += 1\n",
    "            if i == length - 1:\n",
    "                Xlist.append(Xcount)\n",
    "        elif before == \"X\":\n",
    "            Xcount += 1\n",
    "            if i == length - 1:\n",
    "                Xlist.append(Xcount)\n",
    "    elif S[i] == \".\":\n",
    "        if before == \"X\":\n",
    "            if Xcount != 0:\n",
    "                Xlist.append(Xcount)\n",
    "            Xcount = 0\n",
    "            dotcount += 1\n",
    "            if i == length - 1:\n",
    "                dotlist.append(dotcount)\n",
    "        elif before == \".\":\n",
    "            dotcount += 1\n",
    "            if i == length - 1:\n",
    "                dotlist.append(dotcount)\n",
    "\n",
    "print(Xlist)\n",
    "print(dotlist)\n"
   ]
  },
  {
   "cell_type": "code",
   "execution_count": null,
   "metadata": {},
   "outputs": [],
   "source": [
    "import statistics\n",
    "import math\n",
    "N = int(input())\n",
    "X = []\n",
    "Y = []\n",
    "\n",
    "for _ in range(N):\n",
    "    x,y = map(int,input().split())\n",
    "    X.append(x)\n",
    "    Y.append(y)\n",
    "\n",
    "Xmedian1 = math.floor(statistics.median(X))\n",
    "Xmedian2 = math.ceil(statistics.median(X))\n",
    "Ymedian1 = math.floor(statistics.median(Y))\n",
    "Ymedian2 = math.ceil(statistics.median(Y))\n",
    "ansx1 = 0\n",
    "ansx2 = 0\n",
    "ansy1 = 0\n",
    "ansy2 = 0\n",
    "\n",
    "for (x,y) in zip(X,Y):\n",
    "    ansx1 += abs(x-Xmedian1)\n",
    "    ansx2 += abs(x-Xmedian2)\n",
    "    ansy1 += abs(y-Ymedian1)\n",
    "    ansy2 += abs(y-Ymedian2)\n",
    "    \n",
    "ans = int(min(ansx1,ansx2)+min(ansy1,ansy2))\n",
    "print(ans)"
   ]
  },
  {
   "cell_type": "code",
   "execution_count": 2,
   "metadata": {},
   "outputs": [
    {
     "ename": "ValueError",
     "evalue": "not enough values to unpack (expected 2, got 0)",
     "output_type": "error",
     "traceback": [
      "\u001b[0;31m---------------------------------------------------------------------------\u001b[0m",
      "\u001b[0;31mValueError\u001b[0m                                Traceback (most recent call last)",
      "\u001b[0;32m/tmp/ipykernel_223/4190955486.py\u001b[0m in \u001b[0;36m<module>\u001b[0;34m\u001b[0m\n\u001b[1;32m      1\u001b[0m \u001b[0;32mfrom\u001b[0m \u001b[0mcollections\u001b[0m \u001b[0;32mimport\u001b[0m \u001b[0mdeque\u001b[0m\u001b[0;34m\u001b[0m\u001b[0;34m\u001b[0m\u001b[0m\n\u001b[1;32m      2\u001b[0m \u001b[0;34m\u001b[0m\u001b[0m\n\u001b[0;32m----> 3\u001b[0;31m \u001b[0mH\u001b[0m\u001b[0;34m,\u001b[0m\u001b[0mW\u001b[0m \u001b[0;34m=\u001b[0m \u001b[0mmap\u001b[0m\u001b[0;34m(\u001b[0m\u001b[0mint\u001b[0m\u001b[0;34m,\u001b[0m \u001b[0minput\u001b[0m\u001b[0;34m(\u001b[0m\u001b[0;34m)\u001b[0m\u001b[0;34m.\u001b[0m\u001b[0msplit\u001b[0m\u001b[0;34m(\u001b[0m\u001b[0;34m)\u001b[0m\u001b[0;34m)\u001b[0m\u001b[0;34m\u001b[0m\u001b[0;34m\u001b[0m\u001b[0m\n\u001b[0m\u001b[1;32m      4\u001b[0m \u001b[0mGRID\u001b[0m \u001b[0;34m=\u001b[0m \u001b[0;34m[\u001b[0m\u001b[0;34m]\u001b[0m\u001b[0;34m\u001b[0m\u001b[0;34m\u001b[0m\u001b[0m\n\u001b[1;32m      5\u001b[0m \u001b[0;32mfor\u001b[0m \u001b[0m_\u001b[0m \u001b[0;32min\u001b[0m \u001b[0mrange\u001b[0m\u001b[0;34m(\u001b[0m\u001b[0mH\u001b[0m\u001b[0;34m)\u001b[0m\u001b[0;34m:\u001b[0m\u001b[0;34m\u001b[0m\u001b[0;34m\u001b[0m\u001b[0m\n",
      "\u001b[0;31mValueError\u001b[0m: not enough values to unpack (expected 2, got 0)"
     ]
    }
   ],
   "source": [
    "from collections import deque\n",
    "\n",
    "H,W = map(int, input().split())\n",
    "GRID = []\n",
    "for _ in range(H):\n",
    "    GRID += list(str(input())) #このGRIDを0オリジンで扱う\n",
    "\n",
    "rinsetu= [[] for _ in range(H*W)]\n",
    "\n",
    "for i in range(H*W):\n",
    "    # 右に連接する要素を追加できるか考える\n",
    "    if (i+1)%W != 0:\n",
    "        rinsetu[i].append(i+1)\n",
    "    # 左に隣接する要素を追加できるか考える\n",
    "    if i%W != 0:\n",
    "        rinsetu[i].append(i-1)\n",
    "    # 上に隣接する要素を追加できるか考える\n",
    "    if i >= W:\n",
    "        rinsetu[i].append(i-W)\n",
    "    # 下に隣接する要素を追加できるか考える\n",
    "    if i < W*(H-1):\n",
    "        rinsetu[i].append(i+W)\n",
    "\n",
    "\n",
    "def dfs_memory(start_node):\n",
    "    is_calculated = [0] * (H*W)\n",
    "    anslist = []\n",
    "    counter = [1]*(H*W)\n",
    "    s = deque([]) #計算すべき始点となるノードを管理し、ここに値がある限り処理を続けます。\n",
    "    s.append(start_node) #とりあえず頂点1からはじめるので、sに頂点1を追加します。\n",
    "    while s:\n",
    "        now = s.pop() #FILOなのでスタックとして使う　now = s.popleft() とすると幅優先探索\n",
    "        for next in rinsetu[now]:#現在のノードから移動可能なノードを取り出します。複数あれば複数処理が必要です。\n",
    "            if is_calculated[next]:\n",
    "                continue\n",
    "            if GRID[next]==\"#\":\n",
    "                is_calculated[next] = True\n",
    "                continue\n",
    "            if next == start_node:\n",
    "                anslist.append(counter[now])\n",
    "                continue\n",
    "            s.append(next)#次回以降に始点とするべきノードをsに追加します。\n",
    "            is_calculated[next] = True#計算済みにする\n",
    "            counter[next] += counter[now] #カウンターを加算（直前のノードからの累積和）\n",
    "    return anslist\n",
    "\n",
    "ans = 0\n",
    "for i in range(H*W):\n",
    "    if GRID[i] == \".\":\n",
    "        print(dfs_memory(i))\n",
    "    # ans = max(max(dfs_memory(i)),ans)\n",
    "\n",
    "print(ans)\n"
   ]
  },
  {
   "cell_type": "code",
   "execution_count": 17,
   "metadata": {},
   "outputs": [
    {
     "name": "stdout",
     "output_type": "stream",
     "text": [
      "inlap\n"
     ]
    }
   ],
   "source": [
    "N, K = map(int,input().split())\n",
    "S = str(input())\n",
    "ans = str()\n",
    "\n",
    "\n",
    "minlocation = 0\n",
    "\n",
    "while K != 0 and len(S[minlocation:]) != 0:\n",
    "    if K != 1:\n",
    "        Scut = S[minlocation:-(K-1)]\n",
    "    if K == 1:\n",
    "        Scut = S[minlocation:]\n",
    "    minimum = Scut[0]\n",
    "    minlocation2 = 0\n",
    "    for i,word in enumerate(Scut):\n",
    "        if Scut[minlocation2] > word:\n",
    "            minimum = word\n",
    "            minlocation2 = i\n",
    "    minlocation += (minlocation2+1)\n",
    "    ans += minimum\n",
    "    K -= 1\n",
    "    \n",
    "    \n",
    "\n",
    "print(ans)"
   ]
  },
  {
   "cell_type": "code",
   "execution_count": 11,
   "metadata": {},
   "outputs": [
    {
     "data": {
      "text/plain": [
       "True"
      ]
     },
     "execution_count": 11,
     "metadata": {},
     "output_type": "execute_result"
    }
   ],
   "source": [
    "\"x\" > \"a\""
   ]
  }
 ],
 "metadata": {
  "interpreter": {
   "hash": "31f2aee4e71d21fbe5cf8b01ff0e069b9275f58929596ceb00d14d90e3e16cd6"
  },
  "kernelspec": {
   "display_name": "Python 3.6.9 64-bit",
   "language": "python",
   "name": "python3"
  },
  "language_info": {
   "codemirror_mode": {
    "name": "ipython",
    "version": 3
   },
   "file_extension": ".py",
   "mimetype": "text/x-python",
   "name": "python",
   "nbconvert_exporter": "python",
   "pygments_lexer": "ipython3",
   "version": "3.8.10"
  },
  "orig_nbformat": 4
 },
 "nbformat": 4,
 "nbformat_minor": 2
}
